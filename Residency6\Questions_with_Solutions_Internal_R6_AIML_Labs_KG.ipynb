{
  "nbformat": 4,
  "nbformat_minor": 0,
  "metadata": {
    "colab": {
      "name": "Questions with Solutions- Internal - R6 AIML Labs_KG.ipynb",
      "provenance": [],
      "collapsed_sections": []
    },
    "kernelspec": {
      "display_name": "Python 3",
      "language": "python",
      "name": "python3"
    },
    "language_info": {
      "codemirror_mode": {
        "name": "ipython",
        "version": 3
      },
      "file_extension": ".py",
      "mimetype": "text/x-python",
      "name": "python",
      "nbconvert_exporter": "python",
      "pygments_lexer": "ipython3",
      "version": "3.7.4"
    }
  },
  "cells": [
    {
      "cell_type": "markdown",
      "metadata": {
        "colab_type": "text",
        "id": "zUZjPnVXGz0Z"
      },
      "source": [
        "# The Iris Dataset\n",
        "The data set consists of 50 samples from each of three species of Iris (Iris setosa, Iris virginica and Iris versicolor). Four features were measured from each sample: the length and the width of the sepals and petals, in centimeters.\n",
        "\n",
        "The dataset contains a set of 150 records under five attributes - petal length, petal width, sepal length, sepal width and species."
      ]
    },
    {
      "cell_type": "code",
      "metadata": {
        "id": "KkKW-6j2emN1",
        "colab_type": "code",
        "colab": {}
      },
      "source": [
        "import pandas as pd\n",
        "import numpy as np\n",
        "from sklearn.datasets import load_iris\n",
        "irisdataset = load_iris()"
      ],
      "execution_count": 0,
      "outputs": []
    },
    {
      "cell_type": "markdown",
      "metadata": {
        "colab_type": "text",
        "id": "RMbmpriavLE9"
      },
      "source": [
        "### Specifying the TensorFlow version\n",
        "Running `import tensorflow` will import the default version (currently 1.x). You can use 2.x by running a cell with the `tensorflow_version` magic **before** you run `import tensorflow`."
      ]
    },
    {
      "cell_type": "code",
      "metadata": {
        "colab_type": "code",
        "id": "fu8bUU__oa7h",
        "outputId": "1958d87c-6669-4de3-9c89-e0494b220f3d",
        "colab": {
          "base_uri": "https://localhost:8080/",
          "height": 34
        }
      },
      "source": [
        "%tensorflow_version 2.x"
      ],
      "execution_count": 2,
      "outputs": [
        {
          "output_type": "stream",
          "text": [
            "TensorFlow 2.x selected.\n"
          ],
          "name": "stdout"
        }
      ]
    },
    {
      "cell_type": "markdown",
      "metadata": {
        "colab_type": "text",
        "id": "bLz1Ckvfvn6D"
      },
      "source": [
        "### Import TensorFlow\n",
        "Once you have specified a version via this magic, you can run `import tensorflow` as normal and verify which version was imported as follows:"
      ]
    },
    {
      "cell_type": "code",
      "metadata": {
        "colab_type": "code",
        "id": "CWrzVTLOvn6M",
        "outputId": "e6b75e56-b0ce-4ff8-c387-c7cfa6c1ae53",
        "colab": {
          "base_uri": "https://localhost:8080/",
          "height": 34
        }
      },
      "source": [
        "import tensorflow as tf\n",
        "print(tf.__version__)"
      ],
      "execution_count": 3,
      "outputs": [
        {
          "output_type": "stream",
          "text": [
            "2.1.0\n"
          ],
          "name": "stdout"
        }
      ]
    },
    {
      "cell_type": "markdown",
      "metadata": {
        "colab_type": "text",
        "id": "_uYeJgkNuXNC"
      },
      "source": [
        "### Set random seed"
      ]
    },
    {
      "cell_type": "code",
      "metadata": {
        "colab_type": "code",
        "id": "lcASNsewsfQX",
        "colab": {}
      },
      "source": [
        "tf.random.set_seed(42)"
      ],
      "execution_count": 0,
      "outputs": []
    },
    {
      "cell_type": "markdown",
      "metadata": {
        "colab_type": "text",
        "id": "5-vVQBBqg7DI"
      },
      "source": [
        "## Question 1"
      ]
    },
    {
      "cell_type": "markdown",
      "metadata": {
        "colab_type": "text",
        "id": "kE0EDKvQhEIe"
      },
      "source": [
        "### Import dataset\n",
        "- Import iris dataset\n",
        "- Import the dataset using sklearn library"
      ]
    },
    {
      "cell_type": "code",
      "metadata": {
        "colab_type": "code",
        "id": "IOOWpD26Haq3",
        "colab": {}
      },
      "source": [
        "import pandas as pd\n",
        "import numpy as np\n",
        "from sklearn.datasets import load_iris\n",
        "iris_dataset = load_iris()"
      ],
      "execution_count": 0,
      "outputs": []
    },
    {
      "cell_type": "markdown",
      "metadata": {
        "colab_type": "text",
        "id": "ta8YqInTh5v5"
      },
      "source": [
        "## Question 2"
      ]
    },
    {
      "cell_type": "markdown",
      "metadata": {
        "colab_type": "text",
        "id": "HERt3drbhX0i"
      },
      "source": [
        "### Get features and label from the dataset in separate variable\n",
        "- you can get the features using .data method\n",
        "- you can get the features using .target method"
      ]
    },
    {
      "cell_type": "code",
      "metadata": {
        "colab_type": "code",
        "id": "0cV-_qHAHyvE",
        "colab": {}
      },
      "source": [
        "X = iris_dataset.data"
      ],
      "execution_count": 0,
      "outputs": []
    },
    {
      "cell_type": "code",
      "metadata": {
        "id": "TE5wplt94wto",
        "colab_type": "code",
        "colab": {}
      },
      "source": [
        "y = iris_dataset.target"
      ],
      "execution_count": 0,
      "outputs": []
    },
    {
      "cell_type": "code",
      "metadata": {
        "id": "zPm9JsWkheYC",
        "colab_type": "code",
        "outputId": "e92e93f6-544d-42a8-a260-53cdaa001f7c",
        "colab": {
          "base_uri": "https://localhost:8080/",
          "height": 34
        }
      },
      "source": [
        "X.shape"
      ],
      "execution_count": 8,
      "outputs": [
        {
          "output_type": "execute_result",
          "data": {
            "text/plain": [
              "(150, 4)"
            ]
          },
          "metadata": {
            "tags": []
          },
          "execution_count": 8
        }
      ]
    },
    {
      "cell_type": "code",
      "metadata": {
        "id": "xSFMBPeA5Og5",
        "colab_type": "code",
        "outputId": "fd96141b-b159-4b1a-87e7-e101df17d6b8",
        "colab": {
          "base_uri": "https://localhost:8080/",
          "height": 34
        }
      },
      "source": [
        "y.shape"
      ],
      "execution_count": 9,
      "outputs": [
        {
          "output_type": "execute_result",
          "data": {
            "text/plain": [
              "(150,)"
            ]
          },
          "metadata": {
            "tags": []
          },
          "execution_count": 9
        }
      ]
    },
    {
      "cell_type": "markdown",
      "metadata": {
        "colab_type": "text",
        "id": "Qg1A2lkUjFak"
      },
      "source": [
        "## Question 3"
      ]
    },
    {
      "cell_type": "markdown",
      "metadata": {
        "colab_type": "text",
        "id": "3YErwYLCH0N_"
      },
      "source": [
        "\n",
        "\n",
        "```\n",
        "# This is formatted as code\n",
        "```\n",
        "\n",
        "### Create train and test data\n",
        "- use train_test_split to get train and test set\n",
        "- set a random_state\n",
        "- test_size: 0.25"
      ]
    },
    {
      "cell_type": "code",
      "metadata": {
        "colab_type": "code",
        "id": "TYKNJL85h7pQ",
        "outputId": "7db55302-82a4-4d34-dd49-4dc25799d6c3",
        "colab": {
          "base_uri": "https://localhost:8080/",
          "height": 85
        }
      },
      "source": [
        "from sklearn.model_selection import train_test_split\n",
        "X_train, X_test, y_train, y_test = train_test_split(X, y, test_size=.25, random_state=1)\n",
        "print(X_train.shape)\n",
        "print(y_train.shape)\n",
        "print(X_test.shape)\n",
        "print(y_test.shape)"
      ],
      "execution_count": 10,
      "outputs": [
        {
          "output_type": "stream",
          "text": [
            "(112, 4)\n",
            "(112,)\n",
            "(38, 4)\n",
            "(38,)\n"
          ],
          "name": "stdout"
        }
      ]
    },
    {
      "cell_type": "markdown",
      "metadata": {
        "colab_type": "text",
        "id": "g0KVP17Ozaix"
      },
      "source": [
        "## Question 4"
      ]
    },
    {
      "cell_type": "markdown",
      "metadata": {
        "colab_type": "text",
        "id": "SIjqxbhWv1zv"
      },
      "source": [
        "### One-hot encode the labels\n",
        "- convert class vectors (integers) to binary class matrix\n",
        "- convert labels\n",
        "- number of classes: 3\n",
        "- we are doing this to use categorical_crossentropy as loss"
      ]
    },
    {
      "cell_type": "code",
      "metadata": {
        "id": "gSquxCOHmPO4",
        "colab_type": "code",
        "outputId": "100b2865-9f3a-46ec-eabd-49c765b0e83f",
        "colab": {
          "base_uri": "https://localhost:8080/",
          "height": 34
        }
      },
      "source": [
        "from keras.utils import to_categorical\n",
        "y_test=to_categorical(y_test, num_classes=3)\n",
        "y_train=to_categorical(y_train, num_classes=3)"
      ],
      "execution_count": 11,
      "outputs": [
        {
          "output_type": "stream",
          "text": [
            "Using TensorFlow backend.\n"
          ],
          "name": "stderr"
        }
      ]
    },
    {
      "cell_type": "markdown",
      "metadata": {
        "colab_type": "text",
        "id": "ovjLyYzWkO9s"
      },
      "source": [
        "## Question 5"
      ]
    },
    {
      "cell_type": "markdown",
      "metadata": {
        "colab_type": "text",
        "id": "hbIFzoPNSyYo"
      },
      "source": [
        "### Initialize a sequential model\n",
        "- Define a sequential model"
      ]
    },
    {
      "cell_type": "code",
      "metadata": {
        "colab_type": "code",
        "id": "4FvSbf1UjHtl",
        "colab": {}
      },
      "source": [
        "from tensorflow.keras.models import Sequential\n",
        "from tensorflow.keras.layers import Dense"
      ],
      "execution_count": 0,
      "outputs": []
    },
    {
      "cell_type": "code",
      "metadata": {
        "id": "pQJsLGRkmV7O",
        "colab_type": "code",
        "colab": {}
      },
      "source": [
        "model = tf.keras.Sequential()"
      ],
      "execution_count": 0,
      "outputs": []
    },
    {
      "cell_type": "markdown",
      "metadata": {
        "colab_type": "text",
        "id": "dGMy999vlacX"
      },
      "source": [
        "## Question 6"
      ]
    },
    {
      "cell_type": "markdown",
      "metadata": {
        "colab_type": "text",
        "id": "72ibK5Jxm8iL"
      },
      "source": [
        "### Add a layer\n",
        "- Use Dense Layer  with input shape of 4 (according to the feature set) and number of outputs set to 3\n",
        "- Apply Softmax on Dense Layer outputs"
      ]
    },
    {
      "cell_type": "code",
      "metadata": {
        "colab_type": "code",
        "id": "uZKrBNSRm_o9",
        "colab": {}
      },
      "source": [
        "# Input layer  \n",
        "model.add(Dense(4, activation='sigmoid', input_shape=(4,)))   \n",
        "\n",
        "# Output layer  \n",
        "model.add(Dense(3, activation='softmax'))"
      ],
      "execution_count": 0,
      "outputs": []
    },
    {
      "cell_type": "markdown",
      "metadata": {
        "colab_type": "text",
        "id": "i4uiTH8plmNX"
      },
      "source": [
        "## Question 7"
      ]
    },
    {
      "cell_type": "markdown",
      "metadata": {
        "colab_type": "text",
        "id": "yJL8n8vcSyYz"
      },
      "source": [
        "### Compile the model\n",
        "- Use SGD as Optimizer\n",
        "- Use categorical_crossentropy as loss function\n",
        "- Use accuracy as metrics"
      ]
    },
    {
      "cell_type": "code",
      "metadata": {
        "colab_type": "code",
        "id": "Tc_-fjIEk1ve",
        "colab": {}
      },
      "source": [
        "model.compile(optimizer='SGD', loss='categorical_crossentropy', metrics=['accuracy'])"
      ],
      "execution_count": 0,
      "outputs": []
    },
    {
      "cell_type": "markdown",
      "metadata": {
        "colab_type": "text",
        "id": "sihIGbRll_jT"
      },
      "source": [
        "## Question 8"
      ]
    },
    {
      "cell_type": "markdown",
      "metadata": {
        "colab_type": "text",
        "id": "54ZZCfNGlu0i"
      },
      "source": [
        "### Summarize the model\n",
        "- Check model layers\n",
        "- Understand number of trainable parameters"
      ]
    },
    {
      "cell_type": "code",
      "metadata": {
        "colab_type": "code",
        "id": "elER3F_4ln8n",
        "outputId": "e4a3ee28-bc05-45cc-ad51-8d412910c68a",
        "colab": {
          "base_uri": "https://localhost:8080/",
          "height": 221
        }
      },
      "source": [
        "model.summary()"
      ],
      "execution_count": 16,
      "outputs": [
        {
          "output_type": "stream",
          "text": [
            "Model: \"sequential\"\n",
            "_________________________________________________________________\n",
            "Layer (type)                 Output Shape              Param #   \n",
            "=================================================================\n",
            "dense (Dense)                (None, 4)                 20        \n",
            "_________________________________________________________________\n",
            "dense_1 (Dense)              (None, 3)                 15        \n",
            "=================================================================\n",
            "Total params: 35\n",
            "Trainable params: 35\n",
            "Non-trainable params: 0\n",
            "_________________________________________________________________\n"
          ],
          "name": "stdout"
        }
      ]
    },
    {
      "cell_type": "markdown",
      "metadata": {
        "colab_type": "text",
        "id": "2PiP7j3Vmj4p"
      },
      "source": [
        "## Question 9"
      ]
    },
    {
      "cell_type": "markdown",
      "metadata": {
        "colab_type": "text",
        "id": "rWdbfFCXmCHt"
      },
      "source": [
        "### Fit the model\n",
        "- Give train data as training features and labels\n",
        "- Epochs: 100\n",
        "- Give validation data as testing features and labels"
      ]
    },
    {
      "cell_type": "code",
      "metadata": {
        "colab_type": "code",
        "id": "cO1c-5tjmBVZ",
        "outputId": "e6cdfd14-16ad-49e6-a388-489c721e6dff",
        "colab": {
          "base_uri": "https://localhost:8080/",
          "height": 1000
        }
      },
      "source": [
        "history = model.fit(X_train, y_train, epochs=100, batch_size=1, verbose=1)"
      ],
      "execution_count": 17,
      "outputs": [
        {
          "output_type": "stream",
          "text": [
            "Train on 112 samples\n",
            "Epoch 1/100\n",
            "112/112 [==============================] - 0s 3ms/sample - loss: 1.1069 - accuracy: 0.4464\n",
            "Epoch 2/100\n",
            "112/112 [==============================] - 0s 1ms/sample - loss: 1.0391 - accuracy: 0.6786\n",
            "Epoch 3/100\n",
            "112/112 [==============================] - 0s 1ms/sample - loss: 0.9970 - accuracy: 0.6875\n",
            "Epoch 4/100\n",
            "112/112 [==============================] - 0s 1ms/sample - loss: 0.9576 - accuracy: 0.6964\n",
            "Epoch 5/100\n",
            "112/112 [==============================] - 0s 1ms/sample - loss: 0.9205 - accuracy: 0.6964\n",
            "Epoch 6/100\n",
            "112/112 [==============================] - 0s 1ms/sample - loss: 0.8841 - accuracy: 0.7054\n",
            "Epoch 7/100\n",
            "112/112 [==============================] - 0s 1ms/sample - loss: 0.8500 - accuracy: 0.6964\n",
            "Epoch 8/100\n",
            "112/112 [==============================] - 0s 1ms/sample - loss: 0.8160 - accuracy: 0.6964\n",
            "Epoch 9/100\n",
            "112/112 [==============================] - 0s 1ms/sample - loss: 0.7831 - accuracy: 0.6964\n",
            "Epoch 10/100\n",
            "112/112 [==============================] - 0s 1ms/sample - loss: 0.7538 - accuracy: 0.6964\n",
            "Epoch 11/100\n",
            "112/112 [==============================] - 0s 1ms/sample - loss: 0.7258 - accuracy: 0.7054\n",
            "Epoch 12/100\n",
            "112/112 [==============================] - 0s 1ms/sample - loss: 0.7012 - accuracy: 0.6964\n",
            "Epoch 13/100\n",
            "112/112 [==============================] - 0s 1ms/sample - loss: 0.6777 - accuracy: 0.7054\n",
            "Epoch 14/100\n",
            "112/112 [==============================] - 0s 1ms/sample - loss: 0.6575 - accuracy: 0.6964\n",
            "Epoch 15/100\n",
            "112/112 [==============================] - 0s 1ms/sample - loss: 0.6385 - accuracy: 0.6964\n",
            "Epoch 16/100\n",
            "112/112 [==============================] - 0s 1ms/sample - loss: 0.6213 - accuracy: 0.7054\n",
            "Epoch 17/100\n",
            "112/112 [==============================] - 0s 1ms/sample - loss: 0.6043 - accuracy: 0.7232\n",
            "Epoch 18/100\n",
            "112/112 [==============================] - 0s 1ms/sample - loss: 0.5916 - accuracy: 0.6964\n",
            "Epoch 19/100\n",
            "112/112 [==============================] - 0s 1ms/sample - loss: 0.5766 - accuracy: 0.7500\n",
            "Epoch 20/100\n",
            "112/112 [==============================] - 0s 1ms/sample - loss: 0.5652 - accuracy: 0.7143\n",
            "Epoch 21/100\n",
            "112/112 [==============================] - 0s 1ms/sample - loss: 0.5553 - accuracy: 0.7054\n",
            "Epoch 22/100\n",
            "112/112 [==============================] - 0s 1ms/sample - loss: 0.5442 - accuracy: 0.7232\n",
            "Epoch 23/100\n",
            "112/112 [==============================] - 0s 1ms/sample - loss: 0.5355 - accuracy: 0.7143\n",
            "Epoch 24/100\n",
            "112/112 [==============================] - 0s 1ms/sample - loss: 0.5253 - accuracy: 0.7857\n",
            "Epoch 25/100\n",
            "112/112 [==============================] - 0s 1ms/sample - loss: 0.5183 - accuracy: 0.7589\n",
            "Epoch 26/100\n",
            "112/112 [==============================] - 0s 1ms/sample - loss: 0.5098 - accuracy: 0.7679\n",
            "Epoch 27/100\n",
            "112/112 [==============================] - 0s 1ms/sample - loss: 0.5008 - accuracy: 0.7589\n",
            "Epoch 28/100\n",
            "112/112 [==============================] - 0s 1ms/sample - loss: 0.4918 - accuracy: 0.8750\n",
            "Epoch 29/100\n",
            "112/112 [==============================] - 0s 1ms/sample - loss: 0.4884 - accuracy: 0.8036\n",
            "Epoch 30/100\n",
            "112/112 [==============================] - 0s 1ms/sample - loss: 0.4805 - accuracy: 0.8036\n",
            "Epoch 31/100\n",
            "112/112 [==============================] - 0s 1ms/sample - loss: 0.4742 - accuracy: 0.8393\n",
            "Epoch 32/100\n",
            "112/112 [==============================] - 0s 1ms/sample - loss: 0.4667 - accuracy: 0.8304\n",
            "Epoch 33/100\n",
            "112/112 [==============================] - 0s 1ms/sample - loss: 0.4605 - accuracy: 0.8661\n",
            "Epoch 34/100\n",
            "112/112 [==============================] - 0s 1ms/sample - loss: 0.4518 - accuracy: 0.8571\n",
            "Epoch 35/100\n",
            "112/112 [==============================] - 0s 1ms/sample - loss: 0.4467 - accuracy: 0.8839\n",
            "Epoch 36/100\n",
            "112/112 [==============================] - 0s 1ms/sample - loss: 0.4417 - accuracy: 0.8661\n",
            "Epoch 37/100\n",
            "112/112 [==============================] - 0s 1ms/sample - loss: 0.4355 - accuracy: 0.8839\n",
            "Epoch 38/100\n",
            "112/112 [==============================] - 0s 1ms/sample - loss: 0.4285 - accuracy: 0.8929\n",
            "Epoch 39/100\n",
            "112/112 [==============================] - 0s 1ms/sample - loss: 0.4239 - accuracy: 0.9018\n",
            "Epoch 40/100\n",
            "112/112 [==============================] - 0s 1ms/sample - loss: 0.4150 - accuracy: 0.9018\n",
            "Epoch 41/100\n",
            "112/112 [==============================] - 0s 1ms/sample - loss: 0.4117 - accuracy: 0.9196\n",
            "Epoch 42/100\n",
            "112/112 [==============================] - 0s 1ms/sample - loss: 0.4051 - accuracy: 0.9196\n",
            "Epoch 43/100\n",
            "112/112 [==============================] - 0s 1ms/sample - loss: 0.3981 - accuracy: 0.9643\n",
            "Epoch 44/100\n",
            "112/112 [==============================] - 0s 1ms/sample - loss: 0.3949 - accuracy: 0.9196\n",
            "Epoch 45/100\n",
            "112/112 [==============================] - 0s 1ms/sample - loss: 0.3870 - accuracy: 0.9286\n",
            "Epoch 46/100\n",
            "112/112 [==============================] - 0s 1ms/sample - loss: 0.3805 - accuracy: 0.9196\n",
            "Epoch 47/100\n",
            "112/112 [==============================] - 0s 1ms/sample - loss: 0.3716 - accuracy: 0.9464\n",
            "Epoch 48/100\n",
            "112/112 [==============================] - 0s 1ms/sample - loss: 0.3664 - accuracy: 0.9196\n",
            "Epoch 49/100\n",
            "112/112 [==============================] - 0s 1ms/sample - loss: 0.3655 - accuracy: 0.9375\n",
            "Epoch 50/100\n",
            "112/112 [==============================] - 0s 1ms/sample - loss: 0.3591 - accuracy: 0.9464\n",
            "Epoch 51/100\n",
            "112/112 [==============================] - 0s 1ms/sample - loss: 0.3476 - accuracy: 0.9286\n",
            "Epoch 52/100\n",
            "112/112 [==============================] - 0s 1ms/sample - loss: 0.3479 - accuracy: 0.9375\n",
            "Epoch 53/100\n",
            "112/112 [==============================] - 0s 1ms/sample - loss: 0.3430 - accuracy: 0.9554\n",
            "Epoch 54/100\n",
            "112/112 [==============================] - 0s 1ms/sample - loss: 0.3361 - accuracy: 0.9554\n",
            "Epoch 55/100\n",
            "112/112 [==============================] - 0s 1ms/sample - loss: 0.3311 - accuracy: 0.9464\n",
            "Epoch 56/100\n",
            "112/112 [==============================] - 0s 1ms/sample - loss: 0.3278 - accuracy: 0.9554\n",
            "Epoch 57/100\n",
            "112/112 [==============================] - 0s 1ms/sample - loss: 0.3193 - accuracy: 0.9375\n",
            "Epoch 58/100\n",
            "112/112 [==============================] - 0s 1ms/sample - loss: 0.3174 - accuracy: 0.9464\n",
            "Epoch 59/100\n",
            "112/112 [==============================] - 0s 1ms/sample - loss: 0.3111 - accuracy: 0.9554\n",
            "Epoch 60/100\n",
            "112/112 [==============================] - 0s 1ms/sample - loss: 0.3065 - accuracy: 0.9464\n",
            "Epoch 61/100\n",
            "112/112 [==============================] - 0s 1ms/sample - loss: 0.3002 - accuracy: 0.9464\n",
            "Epoch 62/100\n",
            "112/112 [==============================] - 0s 1ms/sample - loss: 0.2961 - accuracy: 0.9464\n",
            "Epoch 63/100\n",
            "112/112 [==============================] - 0s 1ms/sample - loss: 0.2905 - accuracy: 0.9643\n",
            "Epoch 64/100\n",
            "112/112 [==============================] - 0s 1ms/sample - loss: 0.2848 - accuracy: 0.9554\n",
            "Epoch 65/100\n",
            "112/112 [==============================] - 0s 1ms/sample - loss: 0.2845 - accuracy: 0.9375\n",
            "Epoch 66/100\n",
            "112/112 [==============================] - 0s 1ms/sample - loss: 0.2783 - accuracy: 0.9643\n",
            "Epoch 67/100\n",
            "112/112 [==============================] - 0s 1ms/sample - loss: 0.2751 - accuracy: 0.9464\n",
            "Epoch 68/100\n",
            "112/112 [==============================] - 0s 1ms/sample - loss: 0.2641 - accuracy: 0.9643\n",
            "Epoch 69/100\n",
            "112/112 [==============================] - 0s 1ms/sample - loss: 0.2722 - accuracy: 0.9643\n",
            "Epoch 70/100\n",
            "112/112 [==============================] - 0s 1ms/sample - loss: 0.2645 - accuracy: 0.9554\n",
            "Epoch 71/100\n",
            "112/112 [==============================] - 0s 1ms/sample - loss: 0.2560 - accuracy: 0.9643\n",
            "Epoch 72/100\n",
            "112/112 [==============================] - 0s 1ms/sample - loss: 0.2514 - accuracy: 0.9732\n",
            "Epoch 73/100\n",
            "112/112 [==============================] - 0s 1ms/sample - loss: 0.2533 - accuracy: 0.9464\n",
            "Epoch 74/100\n",
            "112/112 [==============================] - 0s 1ms/sample - loss: 0.2426 - accuracy: 0.9554\n",
            "Epoch 75/100\n",
            "112/112 [==============================] - 0s 1ms/sample - loss: 0.2457 - accuracy: 0.9643\n",
            "Epoch 76/100\n",
            "112/112 [==============================] - 0s 1ms/sample - loss: 0.2410 - accuracy: 0.9643\n",
            "Epoch 77/100\n",
            "112/112 [==============================] - 0s 1ms/sample - loss: 0.2366 - accuracy: 0.9643\n",
            "Epoch 78/100\n",
            "112/112 [==============================] - 0s 1ms/sample - loss: 0.2367 - accuracy: 0.9464\n",
            "Epoch 79/100\n",
            "112/112 [==============================] - 0s 1ms/sample - loss: 0.2301 - accuracy: 0.9732\n",
            "Epoch 80/100\n",
            "112/112 [==============================] - 0s 1ms/sample - loss: 0.2313 - accuracy: 0.9643\n",
            "Epoch 81/100\n",
            "112/112 [==============================] - 0s 1ms/sample - loss: 0.2277 - accuracy: 0.9643\n",
            "Epoch 82/100\n",
            "112/112 [==============================] - 0s 1ms/sample - loss: 0.2220 - accuracy: 0.9732\n",
            "Epoch 83/100\n",
            "112/112 [==============================] - 0s 1ms/sample - loss: 0.2243 - accuracy: 0.9464\n",
            "Epoch 84/100\n",
            "112/112 [==============================] - 0s 1ms/sample - loss: 0.2194 - accuracy: 0.9464\n",
            "Epoch 85/100\n",
            "112/112 [==============================] - 0s 1ms/sample - loss: 0.2183 - accuracy: 0.9732\n",
            "Epoch 86/100\n",
            "112/112 [==============================] - 0s 1ms/sample - loss: 0.2153 - accuracy: 0.9732\n",
            "Epoch 87/100\n",
            "112/112 [==============================] - 0s 1ms/sample - loss: 0.2129 - accuracy: 0.9643\n",
            "Epoch 88/100\n",
            "112/112 [==============================] - 0s 1ms/sample - loss: 0.2062 - accuracy: 0.9643\n",
            "Epoch 89/100\n",
            "112/112 [==============================] - 0s 1ms/sample - loss: 0.2051 - accuracy: 0.9643\n",
            "Epoch 90/100\n",
            "112/112 [==============================] - 0s 1ms/sample - loss: 0.2043 - accuracy: 0.9643\n",
            "Epoch 91/100\n",
            "112/112 [==============================] - 0s 1ms/sample - loss: 0.2023 - accuracy: 0.9643\n",
            "Epoch 92/100\n",
            "112/112 [==============================] - 0s 1ms/sample - loss: 0.1965 - accuracy: 0.9732\n",
            "Epoch 93/100\n",
            "112/112 [==============================] - 0s 1ms/sample - loss: 0.1949 - accuracy: 0.9732\n",
            "Epoch 94/100\n",
            "112/112 [==============================] - 0s 1ms/sample - loss: 0.1992 - accuracy: 0.9643\n",
            "Epoch 95/100\n",
            "112/112 [==============================] - 0s 1ms/sample - loss: 0.1932 - accuracy: 0.9643\n",
            "Epoch 96/100\n",
            "112/112 [==============================] - 0s 1ms/sample - loss: 0.1929 - accuracy: 0.9643\n",
            "Epoch 97/100\n",
            "112/112 [==============================] - 0s 1ms/sample - loss: 0.1880 - accuracy: 0.9554\n",
            "Epoch 98/100\n",
            "112/112 [==============================] - 0s 1ms/sample - loss: 0.1883 - accuracy: 0.9643\n",
            "Epoch 99/100\n",
            "112/112 [==============================] - 0s 1ms/sample - loss: 0.1904 - accuracy: 0.9643\n",
            "Epoch 100/100\n",
            "112/112 [==============================] - 0s 1ms/sample - loss: 0.1884 - accuracy: 0.9554\n"
          ],
          "name": "stdout"
        }
      ]
    },
    {
      "cell_type": "markdown",
      "metadata": {
        "colab_type": "text",
        "id": "re9ItAR3yS3J"
      },
      "source": [
        "## Question 10"
      ]
    },
    {
      "cell_type": "markdown",
      "metadata": {
        "colab_type": "text",
        "id": "liw0IFf9yVqH"
      },
      "source": [
        "### Make predictions\n",
        "- Predict labels on one row"
      ]
    },
    {
      "cell_type": "code",
      "metadata": {
        "colab_type": "code",
        "id": "H5sBybi6mlLl",
        "outputId": "13906050-2428-4613-b0fc-d9140d9d594c",
        "colab": {
          "base_uri": "https://localhost:8080/",
          "height": 34
        }
      },
      "source": [
        "model.predict(X_test[0:1])"
      ],
      "execution_count": 18,
      "outputs": [
        {
          "output_type": "execute_result",
          "data": {
            "text/plain": [
              "array([[0.9643599 , 0.03423262, 0.00140749]], dtype=float32)"
            ]
          },
          "metadata": {
            "tags": []
          },
          "execution_count": 18
        }
      ]
    },
    {
      "cell_type": "markdown",
      "metadata": {
        "colab_type": "text",
        "id": "hSUgMq3m0bG7"
      },
      "source": [
        "### Compare the prediction with actual label\n",
        "- Print the same row as done in the previous step but of actual labels"
      ]
    },
    {
      "cell_type": "code",
      "metadata": {
        "colab_type": "code",
        "id": "K5WbwVPyz-qQ",
        "outputId": "9fab0673-e575-414c-8ec2-79f1792ff082",
        "colab": {
          "base_uri": "https://localhost:8080/",
          "height": 34
        }
      },
      "source": [
        "y_test[0:1]"
      ],
      "execution_count": 19,
      "outputs": [
        {
          "output_type": "execute_result",
          "data": {
            "text/plain": [
              "array([[1., 0., 0.]], dtype=float32)"
            ]
          },
          "metadata": {
            "tags": []
          },
          "execution_count": 19
        }
      ]
    },
    {
      "cell_type": "markdown",
      "metadata": {
        "colab_type": "text",
        "id": "FrTKwbgE7NFT"
      },
      "source": [
        "\n",
        "\n",
        "---\n",
        "\n"
      ]
    },
    {
      "cell_type": "markdown",
      "metadata": {
        "colab_type": "text",
        "id": "a1UBYPNp5Tn1"
      },
      "source": [
        "# Stock prices dataset\n",
        "The data is of tock exchange's stock listings for each trading day of 2010 to 2016.\n",
        "\n",
        "## Description\n",
        "A brief description of columns.\n",
        "- open: The opening market price of the equity symbol on the date\n",
        "- high: The highest market price of the equity symbol on the date\n",
        "- low: The lowest recorded market price of the equity symbol on the date\n",
        "- close: The closing recorded price of the equity symbol on the date\n",
        "- symbol: Symbol of the listed company\n",
        "- volume: Total traded volume of the equity symbol on the date\n",
        "- date: Date of record"
      ]
    },
    {
      "cell_type": "markdown",
      "metadata": {
        "colab_type": "text",
        "id": "ctH_ZW5g-M3g"
      },
      "source": [
        "### Specifying the TensorFlow version\n",
        "Running `import tensorflow` will import the default version (currently 1.x). You can use 2.x by running a cell with the `tensorflow_version` magic **before** you run `import tensorflow`."
      ]
    },
    {
      "cell_type": "code",
      "metadata": {
        "colab_type": "code",
        "id": "vQbdODpH-M3r",
        "colab": {}
      },
      "source": [
        "%tensorflow_version 2.x"
      ],
      "execution_count": 0,
      "outputs": []
    },
    {
      "cell_type": "markdown",
      "metadata": {
        "colab_type": "text",
        "id": "nFQWH1tj-M38"
      },
      "source": [
        "### Import TensorFlow\n",
        "Once you have specified a version via this magic, you can run `import tensorflow` as normal and verify which version was imported as follows:"
      ]
    },
    {
      "cell_type": "code",
      "metadata": {
        "colab_type": "code",
        "id": "Ho5n-xhd-M3_",
        "outputId": "97c962ca-a62a-4bc4-a76f-3eb4c59f7b48",
        "colab": {
          "base_uri": "https://localhost:8080/",
          "height": 34
        }
      },
      "source": [
        "import tensorflow as tf\n",
        "print(tf.__version__)"
      ],
      "execution_count": 21,
      "outputs": [
        {
          "output_type": "stream",
          "text": [
            "2.1.0\n"
          ],
          "name": "stdout"
        }
      ]
    },
    {
      "cell_type": "markdown",
      "metadata": {
        "colab_type": "text",
        "id": "tgkl0qu6-M4F"
      },
      "source": [
        "### Set random seed"
      ]
    },
    {
      "cell_type": "code",
      "metadata": {
        "colab_type": "code",
        "id": "TKgTyuA3-M4G",
        "colab": {}
      },
      "source": [
        "tf.random.set_seed(42)"
      ],
      "execution_count": 0,
      "outputs": []
    },
    {
      "cell_type": "markdown",
      "metadata": {
        "colab_type": "text",
        "id": "_88voqAH-O6J"
      },
      "source": [
        "## Question 1"
      ]
    },
    {
      "cell_type": "markdown",
      "metadata": {
        "colab_type": "text",
        "id": "dRHCeJqP-evf"
      },
      "source": [
        "### Load the data\n",
        "- load the csv file and read it using pandas\n",
        "- file name is prices.csv"
      ]
    },
    {
      "cell_type": "code",
      "metadata": {
        "id": "ZB25Um488bBm",
        "colab_type": "code",
        "colab": {
          "base_uri": "https://localhost:8080/",
          "height": 34
        },
        "outputId": "57b87d3e-7863-4743-a04e-1ce664bf1f9b"
      },
      "source": [
        "from google.colab import drive\n",
        "drive.mount('/content/drive',force_remount=True)"
      ],
      "execution_count": 24,
      "outputs": [
        {
          "output_type": "stream",
          "text": [
            "Drive already mounted at /content/drive; to attempt to forcibly remount, call drive.mount(\"/content/drive\", force_remount=True).\n"
          ],
          "name": "stdout"
        }
      ]
    },
    {
      "cell_type": "code",
      "metadata": {
        "colab_type": "code",
        "id": "-gDC6cSW_FSK",
        "colab": {}
      },
      "source": [
        "prices_data = pd.read_csv('prices.csv')"
      ],
      "execution_count": 0,
      "outputs": []
    },
    {
      "cell_type": "code",
      "metadata": {
        "id": "6rj57jXtK_is",
        "colab_type": "code",
        "outputId": "b135408b-4e04-49cd-8020-4f5b848b745f",
        "colab": {
          "base_uri": "https://localhost:8080/",
          "height": 34
        }
      },
      "source": [
        "prices_data.shape"
      ],
      "execution_count": 34,
      "outputs": [
        {
          "output_type": "execute_result",
          "data": {
            "text/plain": [
              "(851264, 7)"
            ]
          },
          "metadata": {
            "tags": []
          },
          "execution_count": 34
        }
      ]
    },
    {
      "cell_type": "code",
      "metadata": {
        "id": "3Yu82NLBLGYO",
        "colab_type": "code",
        "outputId": "c5831602-990d-4926-98af-440b05446d6c",
        "colab": {
          "base_uri": "https://localhost:8080/",
          "height": 204
        }
      },
      "source": [
        "prices_data.head()"
      ],
      "execution_count": 35,
      "outputs": [
        {
          "output_type": "execute_result",
          "data": {
            "text/html": [
              "<div>\n",
              "<style scoped>\n",
              "    .dataframe tbody tr th:only-of-type {\n",
              "        vertical-align: middle;\n",
              "    }\n",
              "\n",
              "    .dataframe tbody tr th {\n",
              "        vertical-align: top;\n",
              "    }\n",
              "\n",
              "    .dataframe thead th {\n",
              "        text-align: right;\n",
              "    }\n",
              "</style>\n",
              "<table border=\"1\" class=\"dataframe\">\n",
              "  <thead>\n",
              "    <tr style=\"text-align: right;\">\n",
              "      <th></th>\n",
              "      <th>date</th>\n",
              "      <th>symbol</th>\n",
              "      <th>open</th>\n",
              "      <th>close</th>\n",
              "      <th>low</th>\n",
              "      <th>high</th>\n",
              "      <th>volume</th>\n",
              "    </tr>\n",
              "  </thead>\n",
              "  <tbody>\n",
              "    <tr>\n",
              "      <th>0</th>\n",
              "      <td>2016-01-05 00:00:00</td>\n",
              "      <td>WLTW</td>\n",
              "      <td>123.430000</td>\n",
              "      <td>125.839996</td>\n",
              "      <td>122.309998</td>\n",
              "      <td>126.250000</td>\n",
              "      <td>2163600.0</td>\n",
              "    </tr>\n",
              "    <tr>\n",
              "      <th>1</th>\n",
              "      <td>2016-01-06 00:00:00</td>\n",
              "      <td>WLTW</td>\n",
              "      <td>125.239998</td>\n",
              "      <td>119.980003</td>\n",
              "      <td>119.940002</td>\n",
              "      <td>125.540001</td>\n",
              "      <td>2386400.0</td>\n",
              "    </tr>\n",
              "    <tr>\n",
              "      <th>2</th>\n",
              "      <td>2016-01-07 00:00:00</td>\n",
              "      <td>WLTW</td>\n",
              "      <td>116.379997</td>\n",
              "      <td>114.949997</td>\n",
              "      <td>114.930000</td>\n",
              "      <td>119.739998</td>\n",
              "      <td>2489500.0</td>\n",
              "    </tr>\n",
              "    <tr>\n",
              "      <th>3</th>\n",
              "      <td>2016-01-08 00:00:00</td>\n",
              "      <td>WLTW</td>\n",
              "      <td>115.480003</td>\n",
              "      <td>116.620003</td>\n",
              "      <td>113.500000</td>\n",
              "      <td>117.440002</td>\n",
              "      <td>2006300.0</td>\n",
              "    </tr>\n",
              "    <tr>\n",
              "      <th>4</th>\n",
              "      <td>2016-01-11 00:00:00</td>\n",
              "      <td>WLTW</td>\n",
              "      <td>117.010002</td>\n",
              "      <td>114.970001</td>\n",
              "      <td>114.089996</td>\n",
              "      <td>117.330002</td>\n",
              "      <td>1408600.0</td>\n",
              "    </tr>\n",
              "  </tbody>\n",
              "</table>\n",
              "</div>"
            ],
            "text/plain": [
              "                  date symbol        open  ...         low        high     volume\n",
              "0  2016-01-05 00:00:00   WLTW  123.430000  ...  122.309998  126.250000  2163600.0\n",
              "1  2016-01-06 00:00:00   WLTW  125.239998  ...  119.940002  125.540001  2386400.0\n",
              "2  2016-01-07 00:00:00   WLTW  116.379997  ...  114.930000  119.739998  2489500.0\n",
              "3  2016-01-08 00:00:00   WLTW  115.480003  ...  113.500000  117.440002  2006300.0\n",
              "4  2016-01-11 00:00:00   WLTW  117.010002  ...  114.089996  117.330002  1408600.0\n",
              "\n",
              "[5 rows x 7 columns]"
            ]
          },
          "metadata": {
            "tags": []
          },
          "execution_count": 35
        }
      ]
    },
    {
      "cell_type": "code",
      "metadata": {
        "id": "r18QyvfPLMsp",
        "colab_type": "code",
        "outputId": "5a760d37-0056-4506-ec0b-a13551d2ad65",
        "colab": {
          "base_uri": "https://localhost:8080/",
          "height": 221
        }
      },
      "source": [
        "prices_data.info()"
      ],
      "execution_count": 36,
      "outputs": [
        {
          "output_type": "stream",
          "text": [
            "<class 'pandas.core.frame.DataFrame'>\n",
            "RangeIndex: 851264 entries, 0 to 851263\n",
            "Data columns (total 7 columns):\n",
            "date      851264 non-null object\n",
            "symbol    851264 non-null object\n",
            "open      851264 non-null float64\n",
            "close     851264 non-null float64\n",
            "low       851264 non-null float64\n",
            "high      851264 non-null float64\n",
            "volume    851264 non-null float64\n",
            "dtypes: float64(5), object(2)\n",
            "memory usage: 45.5+ MB\n"
          ],
          "name": "stdout"
        }
      ]
    },
    {
      "cell_type": "code",
      "metadata": {
        "id": "fwuxk0KULTXB",
        "colab_type": "code",
        "outputId": "6952d950-9ab7-4b09-84dd-47feaf60fe49",
        "colab": {
          "base_uri": "https://localhost:8080/",
          "height": 204
        }
      },
      "source": [
        "prices_data.describe().transpose()"
      ],
      "execution_count": 38,
      "outputs": [
        {
          "output_type": "execute_result",
          "data": {
            "text/html": [
              "<div>\n",
              "<style scoped>\n",
              "    .dataframe tbody tr th:only-of-type {\n",
              "        vertical-align: middle;\n",
              "    }\n",
              "\n",
              "    .dataframe tbody tr th {\n",
              "        vertical-align: top;\n",
              "    }\n",
              "\n",
              "    .dataframe thead th {\n",
              "        text-align: right;\n",
              "    }\n",
              "</style>\n",
              "<table border=\"1\" class=\"dataframe\">\n",
              "  <thead>\n",
              "    <tr style=\"text-align: right;\">\n",
              "      <th></th>\n",
              "      <th>count</th>\n",
              "      <th>mean</th>\n",
              "      <th>std</th>\n",
              "      <th>min</th>\n",
              "      <th>25%</th>\n",
              "      <th>50%</th>\n",
              "      <th>75%</th>\n",
              "      <th>max</th>\n",
              "    </tr>\n",
              "  </thead>\n",
              "  <tbody>\n",
              "    <tr>\n",
              "      <th>open</th>\n",
              "      <td>851264.0</td>\n",
              "      <td>7.083699e+01</td>\n",
              "      <td>8.369588e+01</td>\n",
              "      <td>0.85</td>\n",
              "      <td>3.384000e+01</td>\n",
              "      <td>5.277000e+01</td>\n",
              "      <td>7.988000e+01</td>\n",
              "      <td>1.584440e+03</td>\n",
              "    </tr>\n",
              "    <tr>\n",
              "      <th>close</th>\n",
              "      <td>851264.0</td>\n",
              "      <td>7.085711e+01</td>\n",
              "      <td>8.368969e+01</td>\n",
              "      <td>0.86</td>\n",
              "      <td>3.385000e+01</td>\n",
              "      <td>5.280000e+01</td>\n",
              "      <td>7.989000e+01</td>\n",
              "      <td>1.578130e+03</td>\n",
              "    </tr>\n",
              "    <tr>\n",
              "      <th>low</th>\n",
              "      <td>851264.0</td>\n",
              "      <td>7.011841e+01</td>\n",
              "      <td>8.287729e+01</td>\n",
              "      <td>0.83</td>\n",
              "      <td>3.348000e+01</td>\n",
              "      <td>5.223000e+01</td>\n",
              "      <td>7.911000e+01</td>\n",
              "      <td>1.549940e+03</td>\n",
              "    </tr>\n",
              "    <tr>\n",
              "      <th>high</th>\n",
              "      <td>851264.0</td>\n",
              "      <td>7.154348e+01</td>\n",
              "      <td>8.446550e+01</td>\n",
              "      <td>0.88</td>\n",
              "      <td>3.419000e+01</td>\n",
              "      <td>5.331000e+01</td>\n",
              "      <td>8.061000e+01</td>\n",
              "      <td>1.600930e+03</td>\n",
              "    </tr>\n",
              "    <tr>\n",
              "      <th>volume</th>\n",
              "      <td>851264.0</td>\n",
              "      <td>5.415113e+06</td>\n",
              "      <td>1.249468e+07</td>\n",
              "      <td>0.00</td>\n",
              "      <td>1.221500e+06</td>\n",
              "      <td>2.476250e+06</td>\n",
              "      <td>5.222500e+06</td>\n",
              "      <td>8.596434e+08</td>\n",
              "    </tr>\n",
              "  </tbody>\n",
              "</table>\n",
              "</div>"
            ],
            "text/plain": [
              "           count          mean  ...           75%           max\n",
              "open    851264.0  7.083699e+01  ...  7.988000e+01  1.584440e+03\n",
              "close   851264.0  7.085711e+01  ...  7.989000e+01  1.578130e+03\n",
              "low     851264.0  7.011841e+01  ...  7.911000e+01  1.549940e+03\n",
              "high    851264.0  7.154348e+01  ...  8.061000e+01  1.600930e+03\n",
              "volume  851264.0  5.415113e+06  ...  5.222500e+06  8.596434e+08\n",
              "\n",
              "[5 rows x 8 columns]"
            ]
          },
          "metadata": {
            "tags": []
          },
          "execution_count": 38
        }
      ]
    },
    {
      "cell_type": "markdown",
      "metadata": {
        "colab_type": "text",
        "id": "HlLKVPVH_BCT"
      },
      "source": [
        "## Question 2"
      ]
    },
    {
      "cell_type": "markdown",
      "metadata": {
        "colab_type": "text",
        "id": "9J4BlzVA_gZd"
      },
      "source": [
        "### Drop columnns\n",
        "- drop \"date\" and \"symbol\" column from the data"
      ]
    },
    {
      "cell_type": "code",
      "metadata": {
        "colab_type": "code",
        "id": "IKEK8aEE_Csx",
        "colab": {}
      },
      "source": [
        "prices_data.drop(['date', 'symbol'], axis=1,inplace=True)"
      ],
      "execution_count": 0,
      "outputs": []
    },
    {
      "cell_type": "code",
      "metadata": {
        "id": "UP9oepQgMhVE",
        "colab_type": "code",
        "outputId": "ef2df109-2da7-4273-8612-28162ea71f08",
        "colab": {
          "base_uri": "https://localhost:8080/",
          "height": 187
        }
      },
      "source": [
        "prices_data.info()"
      ],
      "execution_count": 40,
      "outputs": [
        {
          "output_type": "stream",
          "text": [
            "<class 'pandas.core.frame.DataFrame'>\n",
            "RangeIndex: 851264 entries, 0 to 851263\n",
            "Data columns (total 5 columns):\n",
            "open      851264 non-null float64\n",
            "close     851264 non-null float64\n",
            "low       851264 non-null float64\n",
            "high      851264 non-null float64\n",
            "volume    851264 non-null float64\n",
            "dtypes: float64(5)\n",
            "memory usage: 32.5 MB\n"
          ],
          "name": "stdout"
        }
      ]
    },
    {
      "cell_type": "markdown",
      "metadata": {
        "colab_type": "text",
        "id": "cTPhO6v-AiZt"
      },
      "source": [
        "## Question 3"
      ]
    },
    {
      "cell_type": "markdown",
      "metadata": {
        "colab_type": "text",
        "id": "SsZXmF3NAkna"
      },
      "source": [
        "### Take initial rows\n",
        "- Take first 1000 rows from the data\n",
        "- This step is done to make the execution faster"
      ]
    },
    {
      "cell_type": "code",
      "metadata": {
        "colab_type": "code",
        "id": "aKs04iIHAjxN",
        "colab": {}
      },
      "source": [
        "prices_data_temp = prices_data.head(1000)"
      ],
      "execution_count": 0,
      "outputs": []
    },
    {
      "cell_type": "code",
      "metadata": {
        "id": "Mgb1xJqSMxdG",
        "colab_type": "code",
        "outputId": "18438fdb-47f1-4e6b-9d05-26e4128ee6b5",
        "colab": {
          "base_uri": "https://localhost:8080/",
          "height": 34
        }
      },
      "source": [
        "prices_data_temp.shape"
      ],
      "execution_count": 42,
      "outputs": [
        {
          "output_type": "execute_result",
          "data": {
            "text/plain": [
              "(1000, 5)"
            ]
          },
          "metadata": {
            "tags": []
          },
          "execution_count": 42
        }
      ]
    },
    {
      "cell_type": "code",
      "metadata": {
        "id": "fk5t5Lc8M0_2",
        "colab_type": "code",
        "outputId": "fead69b3-218e-45f5-8841-df06843784a6",
        "colab": {
          "base_uri": "https://localhost:8080/",
          "height": 34
        }
      },
      "source": [
        "prices_data_temp.shape"
      ],
      "execution_count": 43,
      "outputs": [
        {
          "output_type": "execute_result",
          "data": {
            "text/plain": [
              "(1000, 5)"
            ]
          },
          "metadata": {
            "tags": []
          },
          "execution_count": 43
        }
      ]
    },
    {
      "cell_type": "markdown",
      "metadata": {
        "colab_type": "text",
        "id": "6vGtnapgBIJm"
      },
      "source": [
        "## Question 4"
      ]
    },
    {
      "cell_type": "markdown",
      "metadata": {
        "colab_type": "text",
        "id": "C8u_jlbABTip"
      },
      "source": [
        "### Get features and label from the dataset in separate variable\n",
        "- Take \"open\", \"close\", \"low\", \"high\" columns as features\n",
        "- Take \"volume\" column as label\n",
        "- Normalize label column by dividing it with 1000000"
      ]
    },
    {
      "cell_type": "code",
      "metadata": {
        "colab_type": "code",
        "id": "xQjCMzUXBJbg",
        "colab": {}
      },
      "source": [
        "# Seperation of features and target column as given above\n",
        "X = prices_data_temp.drop(\"volume\" , axis=1)\n",
        "\n",
        "y = prices_data_temp['volume']"
      ],
      "execution_count": 0,
      "outputs": []
    },
    {
      "cell_type": "code",
      "metadata": {
        "id": "gc56OZzeSkvj",
        "colab_type": "code",
        "outputId": "a351e9ed-0117-487d-9e7d-ecd132ab4b26",
        "colab": {
          "base_uri": "https://localhost:8080/",
          "height": 34
        }
      },
      "source": [
        "X.shape"
      ],
      "execution_count": 45,
      "outputs": [
        {
          "output_type": "execute_result",
          "data": {
            "text/plain": [
              "(1000, 4)"
            ]
          },
          "metadata": {
            "tags": []
          },
          "execution_count": 45
        }
      ]
    },
    {
      "cell_type": "code",
      "metadata": {
        "id": "YIukjJp8Sn0A",
        "colab_type": "code",
        "outputId": "cb5340ff-8f32-4fe6-956b-585ca163f234",
        "colab": {
          "base_uri": "https://localhost:8080/",
          "height": 34
        }
      },
      "source": [
        "y.shape"
      ],
      "execution_count": 46,
      "outputs": [
        {
          "output_type": "execute_result",
          "data": {
            "text/plain": [
              "(1000,)"
            ]
          },
          "metadata": {
            "tags": []
          },
          "execution_count": 46
        }
      ]
    },
    {
      "cell_type": "code",
      "metadata": {
        "id": "M9GVR623TCM0",
        "colab_type": "code",
        "outputId": "977e64e4-fa79-4cc6-ae38-857a5ca6b927",
        "colab": {
          "base_uri": "https://localhost:8080/",
          "height": 170
        }
      },
      "source": [
        "#Normalize label column by dividing it with 1000000\n",
        "y.describe()"
      ],
      "execution_count": 47,
      "outputs": [
        {
          "output_type": "execute_result",
          "data": {
            "text/plain": [
              "count    1.000000e+03\n",
              "mean     5.314222e+06\n",
              "std      1.446565e+07\n",
              "min      1.000000e+04\n",
              "25%      8.216250e+05\n",
              "50%      2.064450e+06\n",
              "75%      4.620475e+06\n",
              "max      2.156202e+08\n",
              "Name: volume, dtype: float64"
            ]
          },
          "metadata": {
            "tags": []
          },
          "execution_count": 47
        }
      ]
    },
    {
      "cell_type": "code",
      "metadata": {
        "id": "HuW4KhQoTb6J",
        "colab_type": "code",
        "colab": {}
      },
      "source": [
        "y1 = y/1000000"
      ],
      "execution_count": 0,
      "outputs": []
    },
    {
      "cell_type": "code",
      "metadata": {
        "id": "4bLHKgssTjw8",
        "colab_type": "code",
        "outputId": "39a27209-eb9c-423e-d51c-37891f53f1d1",
        "colab": {
          "base_uri": "https://localhost:8080/",
          "height": 170
        }
      },
      "source": [
        "y1.describe()"
      ],
      "execution_count": 49,
      "outputs": [
        {
          "output_type": "execute_result",
          "data": {
            "text/plain": [
              "count    1000.000000\n",
              "mean        5.314222\n",
              "std        14.465650\n",
              "min         0.010000\n",
              "25%         0.821625\n",
              "50%         2.064450\n",
              "75%         4.620475\n",
              "max       215.620200\n",
              "Name: volume, dtype: float64"
            ]
          },
          "metadata": {
            "tags": []
          },
          "execution_count": 49
        }
      ]
    },
    {
      "cell_type": "markdown",
      "metadata": {
        "colab_type": "text",
        "id": "aTAKzlxZBz0z"
      },
      "source": [
        "## Question 5"
      ]
    },
    {
      "cell_type": "markdown",
      "metadata": {
        "colab_type": "text",
        "id": "IfY8Km1Zzyt2"
      },
      "source": [
        "### Convert data\n",
        "- Convert features and labels to numpy array\n",
        "- Convert their data type to \"float32\""
      ]
    },
    {
      "cell_type": "code",
      "metadata": {
        "colab_type": "code",
        "id": "Ko7nnQVbYENh",
        "colab": {}
      },
      "source": [
        "y2 = y1.to_numpy()"
      ],
      "execution_count": 0,
      "outputs": []
    },
    {
      "cell_type": "code",
      "metadata": {
        "id": "aYqC9_BbUTZy",
        "colab_type": "code",
        "outputId": "f7a184a0-b685-4493-c013-6dad54e12850",
        "colab": {
          "base_uri": "https://localhost:8080/",
          "height": 34
        }
      },
      "source": [
        "y2.dtype"
      ],
      "execution_count": 51,
      "outputs": [
        {
          "output_type": "execute_result",
          "data": {
            "text/plain": [
              "dtype('float64')"
            ]
          },
          "metadata": {
            "tags": []
          },
          "execution_count": 51
        }
      ]
    },
    {
      "cell_type": "code",
      "metadata": {
        "id": "tGANNC82UjN_",
        "colab_type": "code",
        "colab": {}
      },
      "source": [
        "X1 = X.to_numpy()"
      ],
      "execution_count": 0,
      "outputs": []
    },
    {
      "cell_type": "code",
      "metadata": {
        "id": "29haOA_gU2Gm",
        "colab_type": "code",
        "outputId": "7dcb3c76-6224-4d3b-a5cb-c7f990ab2c9b",
        "colab": {
          "base_uri": "https://localhost:8080/",
          "height": 34
        }
      },
      "source": [
        "X1.dtype"
      ],
      "execution_count": 53,
      "outputs": [
        {
          "output_type": "execute_result",
          "data": {
            "text/plain": [
              "dtype('float64')"
            ]
          },
          "metadata": {
            "tags": []
          },
          "execution_count": 53
        }
      ]
    },
    {
      "cell_type": "code",
      "metadata": {
        "id": "11AgZvvMiz5K",
        "colab_type": "code",
        "colab": {}
      },
      "source": [
        "X1 = np.float32(X1)"
      ],
      "execution_count": 0,
      "outputs": []
    },
    {
      "cell_type": "code",
      "metadata": {
        "id": "dY-S7sFoi8rW",
        "colab_type": "code",
        "outputId": "5292926b-7383-417b-b319-b439b2072f7a",
        "colab": {
          "base_uri": "https://localhost:8080/",
          "height": 34
        }
      },
      "source": [
        "X1.dtype"
      ],
      "execution_count": 55,
      "outputs": [
        {
          "output_type": "execute_result",
          "data": {
            "text/plain": [
              "dtype('float32')"
            ]
          },
          "metadata": {
            "tags": []
          },
          "execution_count": 55
        }
      ]
    },
    {
      "cell_type": "code",
      "metadata": {
        "id": "k8_9vDGIid2R",
        "colab_type": "code",
        "colab": {}
      },
      "source": [
        "y_actual=np.float32(y2)"
      ],
      "execution_count": 0,
      "outputs": []
    },
    {
      "cell_type": "code",
      "metadata": {
        "id": "G93cKG35iqZC",
        "colab_type": "code",
        "outputId": "9a637a61-39eb-4c9c-a963-0941bdd3c833",
        "colab": {
          "base_uri": "https://localhost:8080/",
          "height": 34
        }
      },
      "source": [
        "y_actual.dtype"
      ],
      "execution_count": 57,
      "outputs": [
        {
          "output_type": "execute_result",
          "data": {
            "text/plain": [
              "dtype('float32')"
            ]
          },
          "metadata": {
            "tags": []
          },
          "execution_count": 57
        }
      ]
    },
    {
      "cell_type": "markdown",
      "metadata": {
        "colab_type": "text",
        "id": "3TWpN0nVTpUx"
      },
      "source": [
        "## Question 6"
      ]
    },
    {
      "cell_type": "markdown",
      "metadata": {
        "colab_type": "text",
        "id": "WQ1FKEs-4btX"
      },
      "source": [
        "### Normalize data\n",
        "- Normalize features\n",
        "- Use tf.math.l2_normalize to normalize features\n",
        "- You can read more about it here https://www.tensorflow.org/api_docs/python/tf/math/l2_normalize"
      ]
    },
    {
      "cell_type": "code",
      "metadata": {
        "colab_type": "code",
        "id": "V0Tfe00X78wB",
        "colab": {}
      },
      "source": [
        "normalized_features = tf.math.l2_normalize(X1, axis=None, epsilon=1e-12, name=None)"
      ],
      "execution_count": 0,
      "outputs": []
    },
    {
      "cell_type": "code",
      "metadata": {
        "id": "USp7S_B5bNWY",
        "colab_type": "code",
        "colab": {}
      },
      "source": [
        "x = normalized_features"
      ],
      "execution_count": 0,
      "outputs": []
    },
    {
      "cell_type": "markdown",
      "metadata": {
        "colab_type": "text",
        "id": "wmXUGc2oTspa"
      },
      "source": [
        "## Question 7"
      ]
    },
    {
      "cell_type": "markdown",
      "metadata": {
        "colab_type": "text",
        "id": "VJelDMpzxs0L"
      },
      "source": [
        "### Define weight and bias\n",
        "- Initialize weight and bias with tf.zeros\n",
        "- tf.zeros is an initializer that generates tensors initialized to 0\n",
        "- Specify the value for shape"
      ]
    },
    {
      "cell_type": "code",
      "metadata": {
        "colab_type": "code",
        "id": "8o9RPWVTxs0O",
        "colab": {}
      },
      "source": [
        "W = tf.zeros(shape=(4, 1)) \n",
        "B = tf.zeros(shape=(1))"
      ],
      "execution_count": 0,
      "outputs": []
    },
    {
      "cell_type": "code",
      "metadata": {
        "id": "aNKOhHxObgz_",
        "colab_type": "code",
        "outputId": "dcf35ce3-028c-4e01-f3d0-cebbf8351a12",
        "colab": {
          "base_uri": "https://localhost:8080/",
          "height": 102
        }
      },
      "source": [
        "W"
      ],
      "execution_count": 62,
      "outputs": [
        {
          "output_type": "execute_result",
          "data": {
            "text/plain": [
              "<tf.Tensor: shape=(4, 1), dtype=float32, numpy=\n",
              "array([[0.],\n",
              "       [0.],\n",
              "       [0.],\n",
              "       [0.]], dtype=float32)>"
            ]
          },
          "metadata": {
            "tags": []
          },
          "execution_count": 62
        }
      ]
    },
    {
      "cell_type": "code",
      "metadata": {
        "id": "AcFJ8VHJboUJ",
        "colab_type": "code",
        "outputId": "fc94e6e8-365c-4e90-8b40-8365233e9603",
        "colab": {
          "base_uri": "https://localhost:8080/",
          "height": 34
        }
      },
      "source": [
        "B"
      ],
      "execution_count": 63,
      "outputs": [
        {
          "output_type": "execute_result",
          "data": {
            "text/plain": [
              "<tf.Tensor: shape=(1,), dtype=float32, numpy=array([0.], dtype=float32)>"
            ]
          },
          "metadata": {
            "tags": []
          },
          "execution_count": 63
        }
      ]
    },
    {
      "cell_type": "markdown",
      "metadata": {
        "colab_type": "text",
        "id": "8a0wr94aTyjg"
      },
      "source": [
        "## Question 8"
      ]
    },
    {
      "cell_type": "markdown",
      "metadata": {
        "colab_type": "text",
        "id": "zMXXYdOSxs0Q"
      },
      "source": [
        "### Get prediction\n",
        "- Define a function to get prediction\n",
        "- Approach: prediction = (X * W) + b; here is X is features"
      ]
    },
    {
      "cell_type": "code",
      "metadata": {
        "colab_type": "code",
        "id": "U8Cty1y0xs0S",
        "colab": {}
      },
      "source": [
        "@tf.function \n",
        "def prediction(features, W, B):\n",
        "  y_pred = tf.add(tf.matmul(features, W), B)\n",
        "  return y_pred"
      ],
      "execution_count": 0,
      "outputs": []
    },
    {
      "cell_type": "markdown",
      "metadata": {
        "colab_type": "text",
        "id": "lQmS3Tauxs0V"
      },
      "source": [
        "### Calculate loss\n",
        "- Calculate loss using predictions\n",
        "- Define a function to calculate loss\n",
        "- We are calculating mean squared error"
      ]
    },
    {
      "cell_type": "code",
      "metadata": {
        "colab_type": "code",
        "id": "-FRXmDd5xs0X",
        "colab": {}
      },
      "source": [
        "@tf.function \n",
        "def loss(y_actual, y_predicted):\n",
        "  diff = y_actual - y_predicted\n",
        "  sqr = tf.square(diff)\n",
        "  avg = tf.reduce_mean(sqr)\n",
        "  return avg"
      ],
      "execution_count": 0,
      "outputs": []
    },
    {
      "cell_type": "markdown",
      "metadata": {
        "colab_type": "text",
        "id": "ZbBpnOtfT0wd"
      },
      "source": [
        "## Question 9"
      ]
    },
    {
      "cell_type": "markdown",
      "metadata": {
        "colab_type": "text",
        "id": "bkOzAUUsTmF_"
      },
      "source": [
        "### Define a function to train the model\n",
        "1.   Record all the mathematical steps to calculate Loss\n",
        "2.   Calculate Gradients of Loss w.r.t weights and bias\n",
        "3.   Update Weights and Bias based on gradients and learning rate to minimize loss"
      ]
    },
    {
      "cell_type": "code",
      "metadata": {
        "colab_type": "code",
        "id": "2R4uieGYLYtM",
        "colab": {}
      },
      "source": [
        "def train(x, y_actual, w, b, learning_rate=0.01):\n",
        "  # Record mathematical operations on 'tape' to calculate loss\n",
        "  with tf.GradientTape() as t:\n",
        "    t.watch([w,b])\n",
        "    current_prediction = prediction(x, w, b)\n",
        "    current_loss = loss(y_actual, current_prediction)\n",
        "    # Calculate Gradients for Loss with respect to Weights and Bias\n",
        "    dw, db = t.gradient(current_loss,[w, b])\n",
        "    # Update Weights and Bias\n",
        "    w = w - learning_rate * dw\n",
        "    b = b - learning_rate * db\n",
        "    return w, b"
      ],
      "execution_count": 0,
      "outputs": []
    },
    {
      "cell_type": "markdown",
      "metadata": {
        "colab_type": "text",
        "id": "AW4SEP8kT2ls"
      },
      "source": [
        "## Question 10"
      ]
    },
    {
      "cell_type": "markdown",
      "metadata": {
        "colab_type": "text",
        "id": "yeN0deOvT81N"
      },
      "source": [
        "### Train the model for 100 epochs \n",
        "- Observe the training loss at every iteration"
      ]
    },
    {
      "cell_type": "code",
      "metadata": {
        "colab_type": "code",
        "id": "Jjkn4gUgLevE",
        "outputId": "6abecaf5-8c2b-4ed2-8395-c8c276a1c7bb",
        "colab": {
          "base_uri": "https://localhost:8080/",
          "height": 1000
        }
      },
      "source": [
        "for i in range(100):\n",
        "  W, B = train(x, y_actual, W, B)\n",
        "  print('Current Trng Loss on iteration', i, loss(y_actual, prediction(x, W, B)).numpy())"
      ],
      "execution_count": 67,
      "outputs": [
        {
          "output_type": "stream",
          "text": [
            "Current Trng Loss on iteration 0 236.16759\n",
            "Current Trng Loss on iteration 1 235.09299\n",
            "Current Trng Loss on iteration 2 234.06102\n",
            "Current Trng Loss on iteration 3 233.06998\n",
            "Current Trng Loss on iteration 4 232.11781\n",
            "Current Trng Loss on iteration 5 231.20381\n",
            "Current Trng Loss on iteration 6 230.32585\n",
            "Current Trng Loss on iteration 7 229.48265\n",
            "Current Trng Loss on iteration 8 228.67297\n",
            "Current Trng Loss on iteration 9 227.89539\n",
            "Current Trng Loss on iteration 10 227.14832\n",
            "Current Trng Loss on iteration 11 226.43114\n",
            "Current Trng Loss on iteration 12 225.74234\n",
            "Current Trng Loss on iteration 13 225.0808\n",
            "Current Trng Loss on iteration 14 224.44553\n",
            "Current Trng Loss on iteration 15 223.835\n",
            "Current Trng Loss on iteration 16 223.24931\n",
            "Current Trng Loss on iteration 17 222.68655\n",
            "Current Trng Loss on iteration 18 222.14595\n",
            "Current Trng Loss on iteration 19 221.62688\n",
            "Current Trng Loss on iteration 20 221.12842\n",
            "Current Trng Loss on iteration 21 220.6498\n",
            "Current Trng Loss on iteration 22 220.18993\n",
            "Current Trng Loss on iteration 23 219.74841\n",
            "Current Trng Loss on iteration 24 219.32425\n",
            "Current Trng Loss on iteration 25 218.91705\n",
            "Current Trng Loss on iteration 26 218.52579\n",
            "Current Trng Loss on iteration 27 218.15027\n",
            "Current Trng Loss on iteration 28 217.78957\n",
            "Current Trng Loss on iteration 29 217.44315\n",
            "Current Trng Loss on iteration 30 217.11034\n",
            "Current Trng Loss on iteration 31 216.79077\n",
            "Current Trng Loss on iteration 32 216.48412\n",
            "Current Trng Loss on iteration 33 216.18932\n",
            "Current Trng Loss on iteration 34 215.90611\n",
            "Current Trng Loss on iteration 35 215.63437\n",
            "Current Trng Loss on iteration 36 215.37334\n",
            "Current Trng Loss on iteration 37 215.12263\n",
            "Current Trng Loss on iteration 38 214.88185\n",
            "Current Trng Loss on iteration 39 214.65053\n",
            "Current Trng Loss on iteration 40 214.42859\n",
            "Current Trng Loss on iteration 41 214.21527\n",
            "Current Trng Loss on iteration 42 214.01044\n",
            "Current Trng Loss on iteration 43 213.81369\n",
            "Current Trng Loss on iteration 44 213.62482\n",
            "Current Trng Loss on iteration 45 213.44333\n",
            "Current Trng Loss on iteration 46 213.2691\n",
            "Current Trng Loss on iteration 47 213.10179\n",
            "Current Trng Loss on iteration 48 212.94106\n",
            "Current Trng Loss on iteration 49 212.78687\n",
            "Current Trng Loss on iteration 50 212.63857\n",
            "Current Trng Loss on iteration 51 212.4961\n",
            "Current Trng Loss on iteration 52 212.35948\n",
            "Current Trng Loss on iteration 53 212.22816\n",
            "Current Trng Loss on iteration 54 212.10205\n",
            "Current Trng Loss on iteration 55 211.98093\n",
            "Current Trng Loss on iteration 56 211.86461\n",
            "Current Trng Loss on iteration 57 211.75293\n",
            "Current Trng Loss on iteration 58 211.64558\n",
            "Current Trng Loss on iteration 59 211.54266\n",
            "Current Trng Loss on iteration 60 211.44374\n",
            "Current Trng Loss on iteration 61 211.34874\n",
            "Current Trng Loss on iteration 62 211.2575\n",
            "Current Trng Loss on iteration 63 211.16982\n",
            "Current Trng Loss on iteration 64 211.08572\n",
            "Current Trng Loss on iteration 65 211.00484\n",
            "Current Trng Loss on iteration 66 210.92729\n",
            "Current Trng Loss on iteration 67 210.85278\n",
            "Current Trng Loss on iteration 68 210.78104\n",
            "Current Trng Loss on iteration 69 210.71225\n",
            "Current Trng Loss on iteration 70 210.64633\n",
            "Current Trng Loss on iteration 71 210.58289\n",
            "Current Trng Loss on iteration 72 210.52199\n",
            "Current Trng Loss on iteration 73 210.46347\n",
            "Current Trng Loss on iteration 74 210.4073\n",
            "Current Trng Loss on iteration 75 210.3533\n",
            "Current Trng Loss on iteration 76 210.30153\n",
            "Current Trng Loss on iteration 77 210.2518\n",
            "Current Trng Loss on iteration 78 210.204\n",
            "Current Trng Loss on iteration 79 210.15811\n",
            "Current Trng Loss on iteration 80 210.1141\n",
            "Current Trng Loss on iteration 81 210.0717\n",
            "Current Trng Loss on iteration 82 210.03108\n",
            "Current Trng Loss on iteration 83 209.99205\n",
            "Current Trng Loss on iteration 84 209.95453\n",
            "Current Trng Loss on iteration 85 209.91852\n",
            "Current Trng Loss on iteration 86 209.88396\n",
            "Current Trng Loss on iteration 87 209.85075\n",
            "Current Trng Loss on iteration 88 209.81891\n",
            "Current Trng Loss on iteration 89 209.78818\n",
            "Current Trng Loss on iteration 90 209.75874\n",
            "Current Trng Loss on iteration 91 209.73053\n",
            "Current Trng Loss on iteration 92 209.70349\n",
            "Current Trng Loss on iteration 93 209.67744\n",
            "Current Trng Loss on iteration 94 209.65225\n",
            "Current Trng Loss on iteration 95 209.62833\n",
            "Current Trng Loss on iteration 96 209.6052\n",
            "Current Trng Loss on iteration 97 209.58302\n",
            "Current Trng Loss on iteration 98 209.56174\n",
            "Current Trng Loss on iteration 99 209.5413\n"
          ],
          "name": "stdout"
        }
      ]
    },
    {
      "cell_type": "markdown",
      "metadata": {
        "colab_type": "text",
        "id": "vanvD93FV0_k"
      },
      "source": [
        "### Observe values of Weight\n",
        "- Print the updated values"
      ]
    },
    {
      "cell_type": "code",
      "metadata": {
        "colab_type": "code",
        "id": "QSqpy4gtWaOD",
        "outputId": "9cc272af-8689-44cc-fc8b-3f53ae46738f",
        "colab": {
          "base_uri": "https://localhost:8080/",
          "height": 102
        }
      },
      "source": [
        "W"
      ],
      "execution_count": 68,
      "outputs": [
        {
          "output_type": "execute_result",
          "data": {
            "text/plain": [
              "<tf.Tensor: shape=(4, 1), dtype=float32, numpy=\n",
              "array([[0.0547828 ],\n",
              "       [0.05488191],\n",
              "       [0.05422735],\n",
              "       [0.05533117]], dtype=float32)>"
            ]
          },
          "metadata": {
            "tags": []
          },
          "execution_count": 68
        }
      ]
    },
    {
      "cell_type": "markdown",
      "metadata": {
        "colab_type": "text",
        "id": "y9KpRupYUEwy"
      },
      "source": [
        "### Observe values of Bias\n",
        "- Print the updated values"
      ]
    },
    {
      "cell_type": "code",
      "metadata": {
        "colab_type": "code",
        "id": "bhEWkGqHWohg",
        "outputId": "1f34c644-2a6b-4600-aac3-307749cdb657",
        "colab": {
          "base_uri": "https://localhost:8080/",
          "height": 34
        }
      },
      "source": [
        "B"
      ],
      "execution_count": 69,
      "outputs": [
        {
          "output_type": "execute_result",
          "data": {
            "text/plain": [
              "<tf.Tensor: shape=(1,), dtype=float32, numpy=array([4.607657], dtype=float32)>"
            ]
          },
          "metadata": {
            "tags": []
          },
          "execution_count": 69
        }
      ]
    },
    {
      "cell_type": "code",
      "metadata": {
        "id": "fPnosHdgjjXt",
        "colab_type": "code",
        "outputId": "8aec634d-da21-4789-c7b0-b1a2aacf3b23",
        "colab": {
          "base_uri": "https://localhost:8080/",
          "height": 34
        }
      },
      "source": [
        "B.numpy()"
      ],
      "execution_count": 71,
      "outputs": [
        {
          "output_type": "execute_result",
          "data": {
            "text/plain": [
              "array([4.607657], dtype=float32)"
            ]
          },
          "metadata": {
            "tags": []
          },
          "execution_count": 71
        }
      ]
    },
    {
      "cell_type": "code",
      "metadata": {
        "id": "T7nlMbMcuY5Y",
        "colab_type": "code",
        "outputId": "b667d410-4ffc-4766-b41c-cd778215c182",
        "colab": {
          "base_uri": "https://localhost:8080/",
          "height": 85
        }
      },
      "source": [
        "W.numpy()"
      ],
      "execution_count": 72,
      "outputs": [
        {
          "output_type": "execute_result",
          "data": {
            "text/plain": [
              "array([[0.0547828 ],\n",
              "       [0.05488191],\n",
              "       [0.05422735],\n",
              "       [0.05533117]], dtype=float32)"
            ]
          },
          "metadata": {
            "tags": []
          },
          "execution_count": 72
        }
      ]
    }
  ]
}